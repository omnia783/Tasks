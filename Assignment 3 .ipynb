{
 "cells": [
  {
   "cell_type": "code",
   "execution_count": null,
   "id": "d5d42253",
   "metadata": {},
   "outputs": [],
   "source": [
    "database = {'ahmed':'123', 'salah':'456' , 'omar': '789'}\n",
    "\n",
    "user = input('sign up or login? ')\n",
    "def login():\n",
    "    \n",
    "        logName = input('your name: ')\n",
    "        logPass = input('your pass: ')\n",
    "\n",
    "        for i in database:\n",
    "            if logName == i and logPass == database[i]:\n",
    "                print('successfully logged in')\n",
    "\n",
    "def sign_up():\n",
    "    if user == 'sign up':\n",
    "        logName = input('your name: ')\n",
    "        logPass = input('your pass: ')\n",
    "    \n",
    "        database[logName] = logPass\n",
    "        print('signed up correctly \\n please enter your new data: \\n')\n",
    "        login()\n",
    "\n",
    "if user == 'login':\n",
    "    login()\n",
    "    \n",
    "elif user == 'sign up':\n",
    "    sign_up()\n",
    "else:\n",
    "     print('please choose a right argument')\n",
    "\n",
    "\n",
    "\n",
    "    "
   ]
  },
  {
   "cell_type": "code",
   "execution_count": null,
   "id": "e0930d13",
   "metadata": {},
   "outputs": [],
   "source": []
  }
 ],
 "metadata": {
  "kernelspec": {
   "display_name": "Python 3 (ipykernel)",
   "language": "python",
   "name": "python3"
  },
  "language_info": {
   "codemirror_mode": {
    "name": "ipython",
    "version": 3
   },
   "file_extension": ".py",
   "mimetype": "text/x-python",
   "name": "python",
   "nbconvert_exporter": "python",
   "pygments_lexer": "ipython3",
   "version": "3.9.12"
  }
 },
 "nbformat": 4,
 "nbformat_minor": 5
}
