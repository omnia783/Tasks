{
 "cells": [
  {
   "cell_type": "markdown",
   "metadata": {
    "collapsed": true
   },
   "source": [
    "# Assignment 2\n",
    "Let's test your knowledge!"
   ]
  },
  {
   "cell_type": "markdown",
   "metadata": {},
   "source": [
    "_____\n",
    "**Use <code>for</code>, .split(), and <code>if</code> to create a Statement that will print out words that start with 's':**"
   ]
  },
  {
   "cell_type": "code",
   "execution_count": null,
   "metadata": {},
   "outputs": [],
   "source": [
    "st = 'Print only the words that start with s in this sentence'"
   ]
  },
  {
   "cell_type": "code",
   "execution_count": 6,
   "metadata": {},
   "outputs": [
    {
     "name": "stdout",
     "output_type": "stream",
     "text": [
      "my name is salah mohamed samir\n",
      "the required statment is: ['salah', 'samir']\n"
     ]
    }
   ],
   "source": [
    "s = input()\n",
    "sp = s.split()\n",
    "req_stat = []\n",
    "for i  in sp:\n",
    "    if i[0] == 's':\n",
    "        req_stat.append(i)\n",
    "        \n",
    "print(f'the required statment is: {str(req_stat)}')\n"
   ]
  },
  {
   "cell_type": "markdown",
   "metadata": {},
   "source": [
    "______\n",
    "**Use range() to print all the even numbers from 0 to 10.**"
   ]
  },
  {
   "cell_type": "code",
   "execution_count": 10,
   "metadata": {},
   "outputs": [
    {
     "name": "stdout",
     "output_type": "stream",
     "text": [
      "0 \n",
      "\n",
      "2 \n",
      "\n",
      "4 \n",
      "\n",
      "6 \n",
      "\n",
      "8 \n",
      "\n",
      "10 \n",
      "\n"
     ]
    }
   ],
   "source": [
    "for i in range(11):\n",
    "    if i%2 == 0:\n",
    "        print(i,'\\n')"
   ]
  },
  {
   "cell_type": "markdown",
   "metadata": {},
   "source": [
    "___\n",
    "**Use a List Comprehension to create a list of all numbers between 1 and 50 that are divisible by 3.**"
   ]
  },
  {
   "cell_type": "code",
   "execution_count": 11,
   "metadata": {},
   "outputs": [
    {
     "name": "stdout",
     "output_type": "stream",
     "text": [
      "[3, 6, 9, 12, 15, 18, 21, 24, 27, 30, 33, 36, 39, 42, 45, 48]\n"
     ]
    }
   ],
   "source": [
    "l = []\n",
    "for i in range(1,51):\n",
    "    if i%3 == 0:\n",
    "        l.append(i)\n",
    "print(l)"
   ]
  },
  {
   "cell_type": "markdown",
   "metadata": {},
   "source": [
    "_____\n",
    "**Go through the string below and if the length of a word is even print \"even!\"**"
   ]
  },
  {
   "cell_type": "code",
   "execution_count": 12,
   "metadata": {},
   "outputs": [],
   "source": [
    "st = 'Print every word in this sentence that has an even number of letters'"
   ]
  },
  {
   "cell_type": "code",
   "execution_count": 18,
   "metadata": {},
   "outputs": [
    {
     "name": "stdout",
     "output_type": "stream",
     "text": [
      "word: is even \n",
      "\n",
      "in: is even \n",
      "\n",
      "this: is even \n",
      "\n",
      "sentence: is even \n",
      "\n",
      "that: is even \n",
      "\n",
      "an: is even \n",
      "\n",
      "even: is even \n",
      "\n",
      "number: is even \n",
      "\n",
      "of: is even \n",
      "\n"
     ]
    }
   ],
   "source": [
    "st = 'Print every word in this sentence that has an even number of letters'\n",
    "stt = st.split()\n",
    "for i in stt:\n",
    "    if len(i)%2 == 0:\n",
    "        print(f'{i}: is even \\n')"
   ]
  },
  {
   "cell_type": "markdown",
   "metadata": {},
   "source": [
    "____\n",
    "**Write a program that prints the integers from 1 to 100. But for multiples of three print \"Fizz\" instead of the number, and for the multiples of five print \"Buzz\". For numbers which are multiples of both three and five print \"FizzBuzz\".**"
   ]
  },
  {
   "cell_type": "code",
   "execution_count": 19,
   "metadata": {},
   "outputs": [
    {
     "name": "stdout",
     "output_type": "stream",
     "text": [
      "fizz \n",
      "\n",
      "Buzz \n",
      "\n",
      "fizz \n",
      "\n",
      "fizz \n",
      "\n",
      "Buzz \n",
      "\n",
      "fizz \n",
      "\n",
      "FizzBuzz \n",
      "\n",
      "fizz \n",
      "\n",
      "Buzz \n",
      "\n",
      "fizz \n",
      "\n",
      "fizz \n",
      "\n",
      "Buzz \n",
      "\n",
      "fizz \n",
      "\n",
      "FizzBuzz \n",
      "\n",
      "fizz \n",
      "\n",
      "Buzz \n",
      "\n",
      "fizz \n",
      "\n",
      "fizz \n",
      "\n",
      "Buzz \n",
      "\n",
      "fizz \n",
      "\n",
      "FizzBuzz \n",
      "\n",
      "fizz \n",
      "\n",
      "Buzz \n",
      "\n",
      "fizz \n",
      "\n",
      "fizz \n",
      "\n",
      "Buzz \n",
      "\n",
      "fizz \n",
      "\n",
      "FizzBuzz \n",
      "\n",
      "fizz \n",
      "\n",
      "Buzz \n",
      "\n",
      "fizz \n",
      "\n",
      "fizz \n",
      "\n",
      "Buzz \n",
      "\n",
      "fizz \n",
      "\n",
      "FizzBuzz \n",
      "\n",
      "fizz \n",
      "\n",
      "Buzz \n",
      "\n",
      "fizz \n",
      "\n",
      "fizz \n",
      "\n",
      "Buzz \n",
      "\n",
      "fizz \n",
      "\n",
      "FizzBuzz \n",
      "\n",
      "fizz \n",
      "\n",
      "Buzz \n",
      "\n",
      "fizz \n",
      "\n",
      "fizz \n",
      "\n",
      "Buzz \n",
      "\n"
     ]
    }
   ],
   "source": [
    "for i in range(1,101):\n",
    "    if i%3 ==0 and i%5 !=0:\n",
    "        print('fizz \\n')\n",
    "    elif i%5 ==0 and i%3 !=0:\n",
    "        print('Buzz \\n')\n",
    "    elif i%3 ==0 and i%5 ==0:\n",
    "        print('FizzBuzz \\n')"
   ]
  },
  {
   "cell_type": "markdown",
   "metadata": {},
   "source": [
    "____\n",
    "**Use List Comprehension to create a list of the first letters of every word in the string below:**"
   ]
  },
  {
   "cell_type": "code",
   "execution_count": 23,
   "metadata": {},
   "outputs": [],
   "source": [
    "st = 'Create a list of the first letters of every word in this string'"
   ]
  },
  {
   "cell_type": "code",
   "execution_count": 29,
   "metadata": {},
   "outputs": [
    {
     "name": "stdout",
     "output_type": "stream",
     "text": [
      "['C', 'a', 'l', 'o', 't', 'f', 'l', 'o', 'e', 'w', 'i', 't', 's']\n"
     ]
    }
   ],
   "source": [
    "st = 'Create a list of the first letters of every word in this string'\n",
    "l = st.split()\n",
    "l2 = []\n",
    "for i in l:\n",
    "    l2.append(i[0])\n",
    "\n",
    "print(l2)"
   ]
  },
  {
   "cell_type": "markdown",
   "metadata": {},
   "source": [
    "### Great Job!"
   ]
  }
 ],
 "metadata": {
  "kernelspec": {
   "display_name": "Python 3 (ipykernel)",
   "language": "python",
   "name": "python3"
  },
  "language_info": {
   "codemirror_mode": {
    "name": "ipython",
    "version": 3
   },
   "file_extension": ".py",
   "mimetype": "text/x-python",
   "name": "python",
   "nbconvert_exporter": "python",
   "pygments_lexer": "ipython3",
   "version": "3.9.12"
  }
 },
 "nbformat": 4,
 "nbformat_minor": 1
}
